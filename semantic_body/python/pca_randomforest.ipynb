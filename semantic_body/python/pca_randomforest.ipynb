{
 "cells": [
  {
   "cell_type": "code",
   "execution_count": 9,
   "metadata": {},
   "outputs": [],
   "source": [
    "import numpy as np\n",
    "# load data\n",
    "V = np.fromfile('../data/train/V')[2:]\n",
    "D = np.fromfile('../data/train/roughExact')[2:]\n",
    "\n",
    "V.resize(1400, 37500)\n",
    "D.resize(1400, 26)"
   ]
  },
  {
   "cell_type": "code",
   "execution_count": 10,
   "metadata": {},
   "outputs": [
    {
     "data": {
      "text/plain": [
       "(1400, 26)"
      ]
     },
     "execution_count": 10,
     "metadata": {},
     "output_type": "execute_result"
    }
   ],
   "source": [
    "D."
   ]
  },
  {
   "cell_type": "code",
   "execution_count": 3,
   "metadata": {},
   "outputs": [],
   "source": [
    "#PCA \n",
    "from sklearn.decomposition import PCA\n",
    "pca = PCA(n_components=36)\n",
    "newvv = pca.fit_transform(vv) #(1511, 36)\n"
   ]
  },
  {
   "cell_type": "code",
   "execution_count": 4,
   "metadata": {},
   "outputs": [
    {
     "data": {
      "text/plain": [
       "<matplotlib.figure.Figure at 0x216f4742a58>"
      ]
     },
     "metadata": {},
     "output_type": "display_data"
    }
   ],
   "source": [
    "tot = 36\n",
    "y = [np.sum(pca.explained_variance_ratio_[0:i]) for i in range(0, tot)]\n",
    "x = [i for i in range(0, tot)]\n",
    "import matplotlib.pyplot as plt\n",
    "plt.plot(x, y)\n",
    "plt.savefig('pca_figure.jpg')\n",
    "plt.show()"
   ]
  },
  {
   "cell_type": "code",
   "execution_count": 8,
   "metadata": {},
   "outputs": [],
   "source": [
    "newx = np.dot(newvv[0, :], pca.components_)\n",
    "np.savetxt('../data/New.txt',newx, delimiter=' ')"
   ]
  },
  {
   "cell_type": "code",
   "execution_count": 10,
   "metadata": {},
   "outputs": [
    {
     "data": {
      "text/plain": [
       "1.5250503757582472"
      ]
     },
     "execution_count": 10,
     "metadata": {},
     "output_type": "execute_result"
    }
   ],
   "source": [
    "diff = ((newx - vv[0, :])**2).sum()\n",
    "diff"
   ]
  },
  {
   "cell_type": "code",
   "execution_count": null,
   "metadata": {},
   "outputs": [],
   "source": [
    "#Random Forest\n",
    "from sklearn.ensemble import RandomForestRegressor\n",
    "from sklearn.model_selection import GridSearchCV\n",
    "\n",
    "rfr = RandomForestRegressor(n_jobs=8)\n",
    "\n",
    "param_grid = {'n_estimators': [1000]}\n",
    "model = GridSearchCV(estimator=rfr, param_grid=param_grid, n_jobs=8, cv=10)\n",
    "model.fit(dd, newvv)\n",
    "\n",
    "print('Random Forest Regression....')\n",
    "\n",
    "print('Best Params:')\n",
    "print(model.best_params_)\n",
    "\n",
    "print('Best CV Score:')\n",
    "print(model.best_score_)"
   ]
  }
 ],
 "metadata": {
  "kernelspec": {
   "display_name": "Python 3",
   "language": "python",
   "name": "python3"
  },
  "language_info": {
   "codemirror_mode": {
    "name": "ipython",
    "version": 3
   },
   "file_extension": ".py",
   "mimetype": "text/x-python",
   "name": "python",
   "nbconvert_exporter": "python",
   "pygments_lexer": "ipython3",
   "version": "3.6.4"
  }
 },
 "nbformat": 4,
 "nbformat_minor": 2
}
