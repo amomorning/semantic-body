{
 "cells": [
  {
   "cell_type": "code",
   "execution_count": 50,
   "metadata": {},
   "outputs": [],
   "source": [
    "import numpy as np\n",
    "# load data\n",
    "V = np.fromfile('../data/Verts')[2:]\n",
    "D = np.fromfile('../data/exact')[2:]\n",
    "\n",
    "V.resize(1511, 37500)\n",
    "D.resize(1511, 26)"
   ]
  },
  {
   "cell_type": "code",
   "execution_count": 51,
   "metadata": {},
   "outputs": [],
   "source": [
    "#PCA \n",
    "from sklearn.decomposition import PCA\n",
    "pca = PCA(n_components=36)\n",
    "newV = pca.fit_transform(V) #(1511, 36)\n"
   ]
  },
  {
   "cell_type": "code",
   "execution_count": 75,
   "metadata": {},
   "outputs": [],
   "source": [
    "#Dnn Regressor\n",
    "import tensorflow as tf\n",
    "import tensorflow.contrib.learn as skflow\n",
    "## Data Loader\n",
    "from sklearn.model_selection import train_test_split\n",
    "x_train, x_test, y_train, y_test = train_test_split(D, newV, test_size=0.1, random_state=2)\n",
    "\n",
    "def train_input_fn(batch_size=1):\n",
    "    return tf.estimator.inputs.numpy_input_fn(\n",
    "                    x={'X':x_train.astype(np.float32)}, \n",
    "                    y=y_train.astype(np.float32),\n",
    "                    batch_size=batch_size,\n",
    "                    shuffle=True)\n",
    "\n",
    "def test_input_fn(batch_size=1):\n",
    "    return tf.estimator.inputs.numpy_input_fn(\n",
    "                    x={'X':x_test.astype(np.float32)}, \n",
    "                    y=y_test.astype(np.float32),\n",
    "                    batch_size=batch_size,\n",
    "                    shuffle=True)\n",
    "\n",
    "feature_columns = [tf.feature_column.numeric_column('X', shape=(26,))]"
   ]
  },
  {
   "cell_type": "code",
   "execution_count": 76,
   "metadata": {},
   "outputs": [
    {
     "name": "stdout",
     "output_type": "stream",
     "text": [
      "INFO:tensorflow:Using default config.\n",
      "INFO:tensorflow:Using config: {'_task_type': None, '_task_id': 0, '_cluster_spec': <tensorflow.python.training.server_lib.ClusterSpec object at 0x000001D719DD59E8>, '_master': '', '_num_ps_replicas': 0, '_num_worker_replicas': 0, '_environment': 'local', '_is_chief': True, '_evaluation_master': '', '_train_distribute': None, '_eval_distribute': None, '_device_fn': None, '_tf_config': gpu_options {\n",
      "  per_process_gpu_memory_fraction: 1.0\n",
      "}\n",
      ", '_tf_random_seed': None, '_save_summary_steps': 100, '_save_checkpoints_secs': 600, '_log_step_count_steps': 100, '_protocol': None, '_session_config': None, '_save_checkpoints_steps': None, '_keep_checkpoint_max': 5, '_keep_checkpoint_every_n_hours': 10000, '_model_dir': './DNNRegressor01/32_64_128_256_128_64_D00'}\n"
     ]
    }
   ],
   "source": [
    "## Dense Neural Network\n",
    "\n",
    "\n",
    "hidden_layers = [32, 64, 128, 256, 128, 64]\n",
    "dropout = 0.0\n",
    "\n",
    "MODEL_PATH='./DNNRegressor01/'\n",
    "for hl in hidden_layers:\n",
    "\tMODEL_PATH += '%s_' % hl\n",
    "MODEL_PATH += 'D0%s' % (int(dropout*10))\n",
    "\n",
    "validation_metrics = {\"MSE\": tf.contrib.metrics.streaming_mean_squared_error}\n",
    "\n",
    "\n",
    "regressor = skflow.DNNRegressor(feature_columns=feature_columns,\n",
    "                label_dimension=36,\n",
    "                hidden_units=hidden_layers,\n",
    "                model_dir=MODEL_PATH,\n",
    "                dropout=dropout)"
   ]
  },
  {
   "cell_type": "code",
   "execution_count": 77,
   "metadata": {},
   "outputs": [
    {
     "name": "stdout",
     "output_type": "stream",
     "text": [
      "INFO:tensorflow:Create CheckpointSaverHook.\n",
      "INFO:tensorflow:Graph was finalized.\n",
      "INFO:tensorflow:Running local_init_op.\n",
      "INFO:tensorflow:Done running local_init_op.\n",
      "INFO:tensorflow:Saving checkpoints for 0 into ./DNNRegressor01/32_64_128_256_128_64_D00\\model.ckpt.\n",
      "INFO:tensorflow:loss = 1.2117652, step = 0\n",
      "INFO:tensorflow:global_step/sec: 327.676\n",
      "INFO:tensorflow:loss = 0.22569749, step = 100 (0.306 sec)\n",
      "INFO:tensorflow:global_step/sec: 511.469\n",
      "INFO:tensorflow:loss = 1.5606604, step = 200 (0.195 sec)\n",
      "INFO:tensorflow:global_step/sec: 457.924\n",
      "INFO:tensorflow:loss = 2.767291, step = 300 (0.218 sec)\n",
      "INFO:tensorflow:global_step/sec: 439.282\n",
      "INFO:tensorflow:loss = 0.87687945, step = 400 (0.227 sec)\n",
      "INFO:tensorflow:global_step/sec: 485.369\n",
      "INFO:tensorflow:loss = 0.5145762, step = 500 (0.207 sec)\n",
      "INFO:tensorflow:global_step/sec: 455.691\n",
      "INFO:tensorflow:loss = 1.1560766, step = 600 (0.219 sec)\n",
      "INFO:tensorflow:global_step/sec: 498.516\n",
      "INFO:tensorflow:loss = 0.34476975, step = 700 (0.201 sec)\n",
      "INFO:tensorflow:global_step/sec: 500.247\n",
      "INFO:tensorflow:loss = 0.31127515, step = 800 (0.199 sec)\n",
      "INFO:tensorflow:global_step/sec: 504.263\n",
      "INFO:tensorflow:loss = 0.44013727, step = 900 (0.198 sec)\n",
      "INFO:tensorflow:global_step/sec: 506.381\n",
      "INFO:tensorflow:loss = 0.6718101, step = 1000 (0.197 sec)\n",
      "INFO:tensorflow:global_step/sec: 479.727\n",
      "INFO:tensorflow:loss = 3.6204982, step = 1100 (0.209 sec)\n",
      "INFO:tensorflow:global_step/sec: 484.424\n",
      "INFO:tensorflow:loss = 1.0880635, step = 1200 (0.206 sec)\n",
      "INFO:tensorflow:global_step/sec: 491.504\n",
      "INFO:tensorflow:loss = 0.60929847, step = 1300 (0.202 sec)\n",
      "INFO:tensorflow:Saving checkpoints for 1359 into ./DNNRegressor01/32_64_128_256_128_64_D00\\model.ckpt.\n",
      "INFO:tensorflow:Loss for final step: 0.9587176.\n"
     ]
    },
    {
     "data": {
      "text/plain": [
       "DNNRegressor(params={'head': <tensorflow.contrib.learn.python.learn.estimators.head._RegressionHead object at 0x000001D719DD5898>, 'hidden_units': [32, 64, 128, 256, 128, 64], 'feature_columns': (_NumericColumn(key='X', shape=(26,), default_value=None, dtype=tf.float32, normalizer_fn=None),), 'optimizer': None, 'activation_fn': <function relu at 0x000001D5202D4F28>, 'dropout': 0.0, 'gradient_clip_norm': None, 'embedding_lr_multipliers': None, 'input_layer_min_slice_size': None})"
      ]
     },
     "execution_count": 77,
     "metadata": {},
     "output_type": "execute_result"
    }
   ],
   "source": [
    "regressor.fit(input_fn=train_input_fn(batch_size=1), max_steps=10000)"
   ]
  },
  {
   "cell_type": "code",
   "execution_count": 78,
   "metadata": {},
   "outputs": [
    {
     "name": "stdout",
     "output_type": "stream",
     "text": [
      "INFO:tensorflow:Starting evaluation at 2019-04-17-03:04:42\n",
      "INFO:tensorflow:Graph was finalized.\n",
      "INFO:tensorflow:Restoring parameters from ./DNNRegressor01/32_64_128_256_128_64_D00\\model.ckpt-1359\n",
      "INFO:tensorflow:Running local_init_op.\n",
      "INFO:tensorflow:Done running local_init_op.\n",
      "INFO:tensorflow:Evaluation [1/1]\n",
      "INFO:tensorflow:Finished evaluation at 2019-04-17-03:04:42\n",
      "INFO:tensorflow:Saving dict for global step 1359: global_step = 1359, loss = 2.7148807\n"
     ]
    },
    {
     "data": {
      "text/plain": [
       "{'global_step': 1359, 'loss': 2.7148807}"
      ]
     },
     "execution_count": 78,
     "metadata": {},
     "output_type": "execute_result"
    }
   ],
   "source": [
    "regressor.evaluate(input_fn=test_input_fn(batch_size=1), steps=1)"
   ]
  },
  {
   "cell_type": "code",
   "execution_count": 86,
   "metadata": {},
   "outputs": [
    {
     "name": "stdout",
     "output_type": "stream",
     "text": [
      "WARNING:tensorflow:float64 is not supported by many models, consider casting to float32.\n",
      "INFO:tensorflow:Graph was finalized.\n",
      "INFO:tensorflow:Restoring parameters from ./DNNRegressor01/32_64_128_256_128_64_D00\\model.ckpt-1359\n",
      "INFO:tensorflow:Running local_init_op.\n",
      "INFO:tensorflow:Done running local_init_op.\n",
      "(1, 36)\n"
     ]
    }
   ],
   "source": [
    "data = np.asarray([[1.2, 1.2, 1.44258, 1.47699, 0.761712, 0.650765, 0.52607, 0.300625, 0.23843, 0.29884, 0.801796, 0.579924, 0.54716, 0.331767, 0.47362, 0.45998, 0.467646, 0.318187, 0.34539, 0.377015, 0.380852, 0.642929, 0.463352, 0.391945, 0.328395, 1.121300]])\n",
    "\n",
    "pred = regressor.predict(x={'X':data}, as_iterable=False)\n",
    "\n",
    "print(pred.shape)"
   ]
  },
  {
   "cell_type": "code",
   "execution_count": 87,
   "metadata": {},
   "outputs": [],
   "source": [
    "out = np.dot(pred, pca.components_)\n",
    "np.savetxt('../data/new.txt', out, delimiter=' ')"
   ]
  },
  {
   "cell_type": "code",
   "execution_count": null,
   "metadata": {},
   "outputs": [],
   "source": []
  }
 ],
 "metadata": {
  "kernelspec": {
   "display_name": "Python 3",
   "language": "python",
   "name": "python3"
  },
  "language_info": {
   "codemirror_mode": {
    "name": "ipython",
    "version": 3
   },
   "file_extension": ".py",
   "mimetype": "text/x-python",
   "name": "python",
   "nbconvert_exporter": "python",
   "pygments_lexer": "ipython3",
   "version": "3.6.4"
  }
 },
 "nbformat": 4,
 "nbformat_minor": 2
}
