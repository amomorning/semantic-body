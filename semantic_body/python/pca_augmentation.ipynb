{
 "cells": [
  {
   "cell_type": "code",
   "execution_count": 1,
   "metadata": {},
   "outputs": [],
   "source": [
    "import numpy as np\n",
    "\n",
    "F = np.fromfile('../data/feature')\n",
    "\n",
    "f = F[2:]\n",
    "f.resize(1511, 112500)"
   ]
  },
  {
   "cell_type": "code",
   "execution_count": 2,
   "metadata": {},
   "outputs": [],
   "source": [
    "from sklearn.decomposition import PCA\n",
    "pca = PCA(n_components=120)\n",
    "newf = pca.fit_transform(f)"
   ]
  },
  {
   "cell_type": "code",
   "execution_count": 8,
   "metadata": {},
   "outputs": [
    {
     "data": {
      "text/plain": [
       "array([[-0.74305067,  1.59122854, -0.20471815, ..., -0.07609128,\n",
       "        -0.02594693, -0.08701585],\n",
       "       [ 0.94781311, -1.3377763 , -0.5868133 , ..., -0.05259117,\n",
       "         0.01921874,  0.02619438],\n",
       "       [-1.26591049,  1.39399945,  1.02389933, ..., -0.11107197,\n",
       "         0.10263992,  0.0373245 ],\n",
       "       ...,\n",
       "       [-0.40491046, -0.87981262, -0.13985512, ..., -0.03726358,\n",
       "        -0.03861779, -0.02705558],\n",
       "       [-0.08196518,  0.77478794,  0.058123  , ...,  0.05593953,\n",
       "         0.01928796,  0.02692989],\n",
       "       [ 0.14794159, -0.5199878 ,  0.14893453, ..., -0.03348534,\n",
       "        -0.05669996, -0.04265173]])"
      ]
     },
     "execution_count": 8,
     "metadata": {},
     "output_type": "execute_result"
    }
   ],
   "source": [
    "newf"
   ]
  },
  {
   "cell_type": "code",
   "execution_count": 5,
   "metadata": {},
   "outputs": [],
   "source": [
    "x = np.random.rand(1, 120)"
   ]
  },
  {
   "cell_type": "code",
   "execution_count": 9,
   "metadata": {},
   "outputs": [],
   "source": [
    "newx = np.dot(x, pca.components_)"
   ]
  },
  {
   "cell_type": "code",
   "execution_count": 11,
   "metadata": {},
   "outputs": [
    {
     "data": {
      "text/plain": [
       "(1, 112500)"
      ]
     },
     "execution_count": 11,
     "metadata": {},
     "output_type": "execute_result"
    }
   ],
   "source": [
    "newx.shape"
   ]
  },
  {
   "cell_type": "code",
   "execution_count": 13,
   "metadata": {},
   "outputs": [],
   "source": [
    "np.savetxt('../data/T.txt', newx, delimiter=' ')"
   ]
  },
  {
   "cell_type": "code",
   "execution_count": 14,
   "metadata": {},
   "outputs": [
    {
     "data": {
      "text/plain": [
       "array([[-0.01852755, -0.01990593, -0.01584569, ..., -0.01200105,\n",
       "        -0.00876561, -0.00901053]])"
      ]
     },
     "execution_count": 14,
     "metadata": {},
     "output_type": "execute_result"
    }
   ],
   "source": [
    "newx"
   ]
  },
  {
   "cell_type": "code",
   "execution_count": null,
   "metadata": {},
   "outputs": [],
   "source": []
  }
 ],
 "metadata": {
  "kernelspec": {
   "display_name": "Python 3",
   "language": "python",
   "name": "python3"
  },
  "language_info": {
   "codemirror_mode": {
    "name": "ipython",
    "version": 3
   },
   "file_extension": ".py",
   "mimetype": "text/x-python",
   "name": "python",
   "nbconvert_exporter": "python",
   "pygments_lexer": "ipython3",
   "version": "3.6.4"
  }
 },
 "nbformat": 4,
 "nbformat_minor": 2
}
