{
 "cells": [
  {
   "cell_type": "code",
   "execution_count": 1,
   "metadata": {},
   "outputs": [],
   "source": [
    "import numpy as np\n",
    "\n",
    "F = np.fromfile('../data/feature')\n",
    "\n",
    "f = F[2:]\n",
    "f.resize(1511, 112500)"
   ]
  },
  {
   "cell_type": "code",
   "execution_count": 2,
   "metadata": {},
   "outputs": [],
   "source": [
    "from sklearn.decomposition import PCA\n",
    "pca = PCA(n_components=120)\n",
    "newf = pca.fit_transform(f)"
   ]
  },
  {
   "cell_type": "code",
   "execution_count": 3,
   "metadata": {},
   "outputs": [
    {
     "data": {
      "text/plain": [
       "array([[-4.67117492e+01, -5.27066163e+01, -2.02688003e+02, ...,\n",
       "         8.95563849e+01, -2.86697286e+01, -3.18461857e+01],\n",
       "       [-8.20102401e+01, -4.44712395e+01, -3.56402450e+01, ...,\n",
       "        -3.84986985e+00,  1.46575462e+00, -1.88018721e+01],\n",
       "       [-1.41819229e+02, -1.78441169e+02, -1.88332356e+00, ...,\n",
       "         1.07164191e+01,  8.93407220e+01,  4.51257847e+01],\n",
       "       ...,\n",
       "       [-4.43421576e+01, -5.45731443e+01, -1.48023601e+01, ...,\n",
       "        -6.25809521e+00,  2.52482647e+00,  4.05993888e+00],\n",
       "       [-9.51488488e+01, -5.24547885e+01, -4.52997330e+01, ...,\n",
       "         6.58262225e+00,  7.63233074e+00,  1.85957861e+01],\n",
       "       [-7.03761703e+01, -6.00835337e+01, -3.05947733e+01, ...,\n",
       "         4.51683517e+00,  9.34984457e-03,  4.10404953e+00]])"
      ]
     },
     "execution_count": 3,
     "metadata": {},
     "output_type": "execute_result"
    }
   ],
   "source": [
    "newf"
   ]
  },
  {
   "cell_type": "code",
   "execution_count": 4,
   "metadata": {},
   "outputs": [],
   "source": [
    "x = np.random.rand(1, 120)"
   ]
  },
  {
   "cell_type": "code",
   "execution_count": 5,
   "metadata": {},
   "outputs": [],
   "source": [
    "newx = np.dot(x, pca.components_)"
   ]
  },
  {
   "cell_type": "code",
   "execution_count": 6,
   "metadata": {},
   "outputs": [
    {
     "data": {
      "text/plain": [
       "(1, 112500)"
      ]
     },
     "execution_count": 6,
     "metadata": {},
     "output_type": "execute_result"
    }
   ],
   "source": [
    "newx.shape"
   ]
  },
  {
   "cell_type": "code",
   "execution_count": 7,
   "metadata": {},
   "outputs": [],
   "source": [
    "np.savetxt('../data/T.txt', newx, delimiter=' ')"
   ]
  },
  {
   "cell_type": "code",
   "execution_count": 8,
   "metadata": {},
   "outputs": [
    {
     "data": {
      "text/plain": [
       "array([[ 0.00277932,  0.00089944,  0.02751386, ..., -0.0037093 ,\n",
       "         0.00559415,  0.00065106]])"
      ]
     },
     "execution_count": 8,
     "metadata": {},
     "output_type": "execute_result"
    }
   ],
   "source": [
    "newx"
   ]
  },
  {
   "cell_type": "code",
   "execution_count": null,
   "metadata": {},
   "outputs": [],
   "source": []
  }
 ],
 "metadata": {
  "kernelspec": {
   "display_name": "Python 3",
   "language": "python",
   "name": "python3"
  },
  "language_info": {
   "codemirror_mode": {
    "name": "ipython",
    "version": 3
   },
   "file_extension": ".py",
   "mimetype": "text/x-python",
   "name": "python",
   "nbconvert_exporter": "python",
   "pygments_lexer": "ipython3",
   "version": "3.6.4"
  }
 },
 "nbformat": 4,
 "nbformat_minor": 2
}
