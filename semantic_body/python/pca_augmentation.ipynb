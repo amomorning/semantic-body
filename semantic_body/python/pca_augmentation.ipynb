{
 "cells": [
  {
   "cell_type": "code",
   "execution_count": 2,
   "metadata": {},
   "outputs": [
    {
     "data": {
      "text/plain": [
       "(339975002,)"
      ]
     },
     "execution_count": 2,
     "metadata": {},
     "output_type": "execute_result"
    }
   ],
   "source": [
    "import numpy as np\n",
    "\n",
    "F = np.fromfile('../data/featureRS')\n",
    "\n",
    "F.shape"
   ]
  },
  {
   "cell_type": "code",
   "execution_count": 3,
   "metadata": {},
   "outputs": [
    {
     "data": {
      "text/plain": [
       "(1511, 225000)"
      ]
     },
     "execution_count": 3,
     "metadata": {},
     "output_type": "execute_result"
    }
   ],
   "source": [
    "f = F[2:]\n",
    "\n",
    "f.resize(225000, 1511)\n",
    "f = f.transpose()\n",
    "f.shape"
   ]
  },
  {
   "cell_type": "code",
   "execution_count": 214,
   "metadata": {},
   "outputs": [
    {
     "data": {
      "text/plain": [
       "array([[ 9.99658958e+04,  6.03034583e+02, -2.54087244e+03, ...,\n",
       "         5.18052697e+04,  2.82246794e+04,  1.02460919e+05],\n",
       "       [ 9.96350335e+04, -8.53533829e+03, -9.00459764e+01, ...,\n",
       "         3.82651970e+04,  2.73980426e+04,  8.59174380e+04],\n",
       "       [ 9.92494778e+04, -1.22256867e+04, -2.71541466e+02, ...,\n",
       "         2.72916784e+04,  1.89199508e+04,  6.07126870e+04],\n",
       "       ...,\n",
       "       [ 9.99876280e+04, -1.04460040e+03, -1.17603124e+03, ...,\n",
       "         1.72858725e+04,  1.65975237e+04,  4.44763237e+04],\n",
       "       [ 9.98642283e+04, -1.77450054e+03, -4.89765751e+03, ...,\n",
       "         1.39513006e+04,  8.97785581e+03,  3.04005103e+04],\n",
       "       [ 9.95665955e+04, -8.53622725e+03, -3.69132580e+03, ...,\n",
       "         1.34964959e+04,  1.25854445e+04,  3.57524147e+04]])"
      ]
     },
     "execution_count": 214,
     "metadata": {},
     "output_type": "execute_result"
    }
   ],
   "source": []
  },
  {
   "cell_type": "code",
   "execution_count": 4,
   "metadata": {},
   "outputs": [],
   "source": [
    "from sklearn.decomposition import PCA\n",
    "pca = PCA(n_components=120)\n",
    "newf = pca.fit_transform(f)"
   ]
  },
  {
   "cell_type": "code",
   "execution_count": 5,
   "metadata": {},
   "outputs": [
    {
     "data": {
      "text/plain": [
       "<matplotlib.figure.Figure at 0x17722e9ccf8>"
      ]
     },
     "metadata": {},
     "output_type": "display_data"
    }
   ],
   "source": [
    "\n",
    "y = [np.sum(pca.explained_variance_ratio_[0:i]) for i in range(0, 120)]\n",
    "x = [i for i in range(0, 120)]\n",
    "import matplotlib.pyplot as plt\n",
    "plt.plot(x, y)\n",
    "plt.savefig('pca_figure.jpg')\n",
    "plt.show()"
   ]
  },
  {
   "cell_type": "code",
   "execution_count": 6,
   "metadata": {},
   "outputs": [
    {
     "data": {
      "text/plain": [
       "0.9821543443934748"
      ]
     },
     "execution_count": 6,
     "metadata": {},
     "output_type": "execute_result"
    }
   ],
   "source": [
    "y[119]"
   ]
  },
  {
   "cell_type": "markdown",
   "metadata": {},
   "source": [
    "\n",
    "X = []\n",
    "Y = []\n",
    "Z = []\n",
    "for i in range(1511):\n",
    "    for j in range(120):\n",
    "        X.append(i)\n",
    "        Y.append(j)\n",
    "        Z.append(newf[i, j])\n",
    "        \n",
    "from mpl_toolkits.mplot3d import Axes3D\n",
    "\n",
    "fig = plt.figure()\n",
    "ax = Axes3D(fig)\n",
    "\n",
    "ax.scatter(X, Y, Z)"
   ]
  },
  {
   "cell_type": "code",
   "execution_count": 7,
   "metadata": {},
   "outputs": [
    {
     "data": {
      "text/plain": [
       "(1511, 120)"
      ]
     },
     "execution_count": 7,
     "metadata": {},
     "output_type": "execute_result"
    }
   ],
   "source": [
    "newf.shape"
   ]
  },
  {
   "cell_type": "code",
   "execution_count": 8,
   "metadata": {},
   "outputs": [
    {
     "data": {
      "text/plain": [
       "array([[ 0.26421699, -0.94810777,  0.0768932 , ..., -0.02278765,\n",
       "         0.7879206 , -0.1418318 ]])"
      ]
     },
     "execution_count": 8,
     "metadata": {},
     "output_type": "execute_result"
    }
   ],
   "source": [
    "x = np.random.rand(1, 225000)*2-1\n",
    "x"
   ]
  },
  {
   "cell_type": "code",
   "execution_count": 9,
   "metadata": {},
   "outputs": [],
   "source": [
    "newx = np.dot(newf[0, :], pca.components_)"
   ]
  },
  {
   "cell_type": "code",
   "execution_count": 10,
   "metadata": {},
   "outputs": [
    {
     "data": {
      "text/plain": [
       "1182242.6444565274"
      ]
     },
     "execution_count": 10,
     "metadata": {},
     "output_type": "execute_result"
    }
   ],
   "source": [
    "diff = ((newx - f[0, :])**2).sum()\n",
    "diff"
   ]
  },
  {
   "cell_type": "code",
   "execution_count": 11,
   "metadata": {},
   "outputs": [],
   "source": [
    "np.savetxt('../data/T.txt',f[0, :]+x, delimiter=' ')"
   ]
  },
  {
   "cell_type": "code",
   "execution_count": 12,
   "metadata": {},
   "outputs": [
    {
     "data": {
      "text/plain": [
       "(225000,)"
      ]
     },
     "execution_count": 12,
     "metadata": {},
     "output_type": "execute_result"
    }
   ],
   "source": [
    "newx.shape"
   ]
  },
  {
   "cell_type": "code",
   "execution_count": null,
   "metadata": {},
   "outputs": [],
   "source": []
  }
 ],
 "metadata": {
  "kernelspec": {
   "display_name": "Python 3",
   "language": "python",
   "name": "python3"
  },
  "language_info": {
   "codemirror_mode": {
    "name": "ipython",
    "version": 3
   },
   "file_extension": ".py",
   "mimetype": "text/x-python",
   "name": "python",
   "nbconvert_exporter": "python",
   "pygments_lexer": "ipython3",
   "version": "3.6.4"
  }
 },
 "nbformat": 4,
 "nbformat_minor": 2
}
