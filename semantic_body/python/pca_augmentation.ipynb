{
 "cells": [
  {
   "cell_type": "code",
   "execution_count": 1,
   "metadata": {},
   "outputs": [],
   "source": [
    "import numpy as np\n",
    "\n",
    "RS = np.fromfile('../data/train/RS')[2:]\n",
    "\n",
    "RS.resize(1400, 225000)"
   ]
  },
  {
   "cell_type": "code",
   "execution_count": 3,
   "metadata": {},
   "outputs": [
    {
     "data": {
      "text/plain": [
       "array([[ 9.99683903e-01,  6.63204195e-03, -2.42509643e-02, ...,\n",
       "         5.20175113e-01,  2.82665061e-01,  1.02787696e+00],\n",
       "       [ 9.96398343e-01, -8.47954161e-02,  2.80950636e-04, ...,\n",
       "         3.83886723e-01,  2.74932252e-01,  8.62245537e-01],\n",
       "       [ 9.92566817e-01, -1.21691094e-01, -1.54640230e-03, ...,\n",
       "         2.73756872e-01,  1.89905402e-01,  6.09405980e-01],\n",
       "       ...,\n",
       "       [ 9.99895073e-01, -9.89404915e-03, -1.05806692e-02, ...,\n",
       "         1.73129712e-01,  1.66991911e-01,  4.46550623e-01],\n",
       "       [ 9.98709239e-01, -1.72260881e-02, -4.77819846e-02, ...,\n",
       "         1.39923052e-01,  8.99337896e-02,  3.04991346e-01],\n",
       "       [ 9.95759740e-01, -8.47560813e-02, -3.57623581e-02, ...,\n",
       "         1.35264123e-01,  1.26516547e-01,  3.59156497e-01]])"
      ]
     },
     "execution_count": 3,
     "metadata": {},
     "output_type": "execute_result"
    }
   ],
   "source": [
    "RS"
   ]
  },
  {
   "cell_type": "code",
   "execution_count": 214,
   "metadata": {},
   "outputs": [
    {
     "data": {
      "text/plain": [
       "array([[ 9.99658958e+04,  6.03034583e+02, -2.54087244e+03, ...,\n",
       "         5.18052697e+04,  2.82246794e+04,  1.02460919e+05],\n",
       "       [ 9.96350335e+04, -8.53533829e+03, -9.00459764e+01, ...,\n",
       "         3.82651970e+04,  2.73980426e+04,  8.59174380e+04],\n",
       "       [ 9.92494778e+04, -1.22256867e+04, -2.71541466e+02, ...,\n",
       "         2.72916784e+04,  1.89199508e+04,  6.07126870e+04],\n",
       "       ...,\n",
       "       [ 9.99876280e+04, -1.04460040e+03, -1.17603124e+03, ...,\n",
       "         1.72858725e+04,  1.65975237e+04,  4.44763237e+04],\n",
       "       [ 9.98642283e+04, -1.77450054e+03, -4.89765751e+03, ...,\n",
       "         1.39513006e+04,  8.97785581e+03,  3.04005103e+04],\n",
       "       [ 9.95665955e+04, -8.53622725e+03, -3.69132580e+03, ...,\n",
       "         1.34964959e+04,  1.25854445e+04,  3.57524147e+04]])"
      ]
     },
     "execution_count": 214,
     "metadata": {},
     "output_type": "execute_result"
    }
   ],
   "source": []
  },
  {
   "cell_type": "code",
   "execution_count": 5,
   "metadata": {},
   "outputs": [],
   "source": [
    "from sklearn.decomposition import TruncatedSVD\n",
    "pca = TruncatedSVD(n_components=120)\n",
    "newf = pca.fit_transform(RS)"
   ]
  },
  {
   "cell_type": "code",
   "execution_count": 10,
   "metadata": {},
   "outputs": [
    {
     "data": {
      "image/png": "[encoded data removed]",
      "text/plain": [
       "<matplotlib.figure.Figure at 0x236c3a325c0>"
      ]
     },
     "metadata": {},
     "output_type": "display_data"
    }
   ],
   "source": [
    "%matplotlib inline\n",
    "y = [np.sum(pca.explained_variance_ratio_[0:i]) for i in range(0, 120)]\n",
    "x = [i for i in range(0, 120)]\n",
    "import matplotlib.pyplot as plt\n",
    "plt.plot(x, y)\n",
    "plt.ylabel(\"accuracy\")\n",
    "plt.xlabel(\"n_components\")\n",
    "plt.savefig('../images/chartgraph/rs_pca_figure.jpg')"
   ]
  },
  {
   "cell_type": "code",
   "execution_count": 12,
   "metadata": {},
   "outputs": [
    {
     "data": {
      "text/plain": [
       "0.9888286938319882"
      ]
     },
     "execution_count": 12,
     "metadata": {},
     "output_type": "execute_result"
    }
   ],
   "source": [
    "y[50]"
   ]
  },
  {
   "cell_type": "markdown",
   "metadata": {},
   "source": [
    "\n",
    "X = []\n",
    "Y = []\n",
    "Z = []\n",
    "for i in range(1511):\n",
    "    for j in range(120):\n",
    "        X.append(i)\n",
    "        Y.append(j)\n",
    "        Z.append(newf[i, j])\n",
    "        \n",
    "from mpl_toolkits.mplot3d import Axes3D\n",
    "\n",
    "fig = plt.figure()\n",
    "ax = Axes3D(fig)\n",
    "\n",
    "ax.scatter(X, Y, Z)"
   ]
  },
  {
   "cell_type": "code",
   "execution_count": 58,
   "metadata": {},
   "outputs": [
    {
     "data": {
      "text/plain": [
       "-101.01417942123015"
      ]
     },
     "execution_count": 58,
     "metadata": {},
     "output_type": "execute_result"
    }
   ],
   "source": [
    "newf[0, :].min()"
   ]
  },
  {
   "cell_type": "code",
   "execution_count": 60,
   "metadata": {},
   "outputs": [
    {
     "data": {
      "text/plain": [
       "array([[ 31.25972531,  54.15753157, -87.76974095,  81.31261942,\n",
       "         66.57965249,   1.76756646,  85.93546621, -62.71207365,\n",
       "        -27.77472113,  32.82613471, -63.97956425,  69.14973909,\n",
       "        -29.78116826,  65.70574736,  46.96790442, -36.36173636,\n",
       "         38.26960088,  46.57433302,  65.22741102,  79.76271261,\n",
       "         64.91266097,  97.74135812, -54.85080323, -35.33993447,\n",
       "        -60.39782128,   0.25764879,  19.47064086,  82.07296724,\n",
       "         11.21140067,  64.94414793,   5.38931566,  -4.3471245 ,\n",
       "        -63.20585855, -27.60451261,  93.45878634,  93.99284282,\n",
       "          0.67931271, -82.69507403, -55.49561536,  44.86430728,\n",
       "        -27.83594422, -96.06305403,   6.75092661, -87.29206852,\n",
       "         31.79487124, -42.72785742, -65.02627478, -51.83164441,\n",
       "        -45.4487026 , -75.43641984,  59.36118404, -87.65533242,\n",
       "         47.50532517,  26.44622289,   7.94822464, -63.31549196,\n",
       "          3.32453513,  56.90670947, -90.98058916, -78.06965154,\n",
       "         72.39971107,  10.9553427 , -99.09437696,  79.25277424,\n",
       "        -91.79769459, -79.64487708,  -2.12925048,  29.12045268,\n",
       "         87.71241497, -77.09781593,  -8.67868678,  20.87523858,\n",
       "         45.68631943,  44.90655021,  -4.14350409, -44.11690085,\n",
       "         72.4638277 ,  -6.65547697,  27.10611653, -96.39250696,\n",
       "         -4.91359549, -90.42484155, -73.22878455, -54.30220212,\n",
       "         87.7346324 , -62.22191959,  11.75848171,  51.57521963,\n",
       "         76.06075566, -89.27785509, -88.92425741, -93.69490676,\n",
       "         79.8119192 ,  20.49077008,  37.99900579, -10.83619619,\n",
       "        -87.69360843,  83.61360019, -90.80610621, -80.91647879,\n",
       "         57.23610633,  60.39493441,  14.89114505, -65.1033065 ,\n",
       "         37.34222705,  66.46626151, -86.83736071, -87.11828054,\n",
       "         -1.34224863,  17.78766674,  -8.16948388,  12.83193732,\n",
       "         35.67977738, -59.60213663,  56.97849484, -76.53166062,\n",
       "        -67.3428188 ,  26.81528318,  84.27798545, -69.22478746]])"
      ]
     },
     "execution_count": 60,
     "metadata": {},
     "output_type": "execute_result"
    }
   ],
   "source": [
    "x = np.random.rand(1, 120)*200-100\n",
    "x"
   ]
  },
  {
   "cell_type": "code",
   "execution_count": 61,
   "metadata": {},
   "outputs": [],
   "source": [
    "newx = np.dot(newf[0, :]+x, pca.components_)"
   ]
  },
  {
   "cell_type": "code",
   "execution_count": 62,
   "metadata": {},
   "outputs": [
    {
     "data": {
      "text/plain": [
       "1.9714103687500304"
      ]
     },
     "execution_count": 62,
     "metadata": {},
     "output_type": "execute_result"
    }
   ],
   "source": [
    "diff = ((newx - RS[0, :])**2).mean()\n",
    "diff"
   ]
  },
  {
   "cell_type": "code",
   "execution_count": 63,
   "metadata": {},
   "outputs": [
    {
     "data": {
      "text/plain": [
       "(1, 225000)"
      ]
     },
     "execution_count": 63,
     "metadata": {},
     "output_type": "execute_result"
    }
   ],
   "source": [
    "newx.shape"
   ]
  },
  {
   "cell_type": "code",
   "execution_count": 64,
   "metadata": {},
   "outputs": [],
   "source": [
    "np.savetxt('../data/T.txt',newx, delimiter=' ')"
   ]
  },
  {
   "cell_type": "code",
   "execution_count": 22,
   "metadata": {},
   "outputs": [
    {
     "data": {
      "text/plain": [
       "array([0.99237525, 0.05789088, 0.00207984, ..., 0.42626523, 0.27480968,\n",
       "       0.91128132])"
      ]
     },
     "execution_count": 22,
     "metadata": {},
     "output_type": "execute_result"
    }
   ],
   "source": [
    "newx"
   ]
  },
  {
   "cell_type": "code",
   "execution_count": null,
   "metadata": {},
   "outputs": [],
   "source": []
  }
 ],
 "metadata": {
  "kernelspec": {
   "display_name": "Python 3",
   "language": "python",
   "name": "python3"
  },
  "language_info": {
   "codemirror_mode": {
    "name": "ipython",
    "version": 3
   },
   "file_extension": ".py",
   "mimetype": "text/x-python",
   "name": "python",
   "nbconvert_exporter": "python",
   "pygments_lexer": "ipython3",
   "version": "3.6.4"
  }
 },
 "nbformat": 4,
 "nbformat_minor": 2
}
