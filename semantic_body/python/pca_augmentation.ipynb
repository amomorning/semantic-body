{
 "cells": [
  {
   "cell_type": "code",
   "execution_count": 5,
   "metadata": {},
   "outputs": [
    {
     "data": {
      "text/plain": [
       "(169987502,)"
      ]
     },
     "execution_count": 5,
     "metadata": {},
     "output_type": "execute_result"
    }
   ],
   "source": [
    "import numpy as np\n",
    "\n",
    "F = np.fromfile('../data/feature')\n",
    "\n",
    "F.shape\n"
   ]
  },
  {
   "cell_type": "code",
   "execution_count": 170,
   "metadata": {},
   "outputs": [
    {
     "data": {
      "text/plain": [
       "(1511, 112500)"
      ]
     },
     "execution_count": 170,
     "metadata": {},
     "output_type": "execute_result"
    }
   ],
   "source": [
    "f = F[2:]\n",
    "\n",
    "f.resize(1511, 112500)\n",
    "f.shape"
   ]
  },
  {
   "cell_type": "code",
   "execution_count": 174,
   "metadata": {},
   "outputs": [
    {
     "data": {
      "text/plain": [
       "array([[ 0.62787946,  0.6120301 ,  0.55039168, ...,  0.03053857,\n",
       "         0.03113092,  0.02245835],\n",
       "       [ 0.03197318,  0.0386616 ,  0.02497441, ...,  0.56901458,\n",
       "         0.46497135,  0.54158152],\n",
       "       [ 0.49920462,  0.53893527,  0.56012663, ..., -0.03781372,\n",
       "        -0.05211615, -0.04317577],\n",
       "       ...,\n",
       "       [ 0.00863989,  0.02657727,  0.05187133, ...,  0.4200143 ,\n",
       "         0.42852588,  0.49233397],\n",
       "       [ 0.44391746,  0.43359871,  0.35405194, ..., -0.2018445 ,\n",
       "        -0.1570146 , -0.29429871],\n",
       "       [-0.23723762, -0.35991911, -0.2402722 , ...,  0.2171471 ,\n",
       "         0.1590347 ,  0.24011561]])"
      ]
     },
     "execution_count": 174,
     "metadata": {},
     "output_type": "execute_result"
    }
   ],
   "source": [
    "f"
   ]
  },
  {
   "cell_type": "code",
   "execution_count": 171,
   "metadata": {},
   "outputs": [],
   "source": [
    "from sklearn.decomposition import PCA\n",
    "pca = PCA(n_components=50)\n",
    "newf = pca.fit_transform(f)"
   ]
  },
  {
   "cell_type": "code",
   "execution_count": 149,
   "metadata": {},
   "outputs": [
    {
     "data": {
      "image/png": "[encoded data removed]",
      "text/plain": [
       "<matplotlib.figure.Figure at 0x2159af3d5c0>"
      ]
     },
     "metadata": {},
     "output_type": "display_data"
    }
   ],
   "source": [
    "\n",
    "y = [np.sum(pca.explained_variance_ratio_[0:i]) for i in range(0, 300)]\n",
    "x = [i for i in range(0, 300)]\n",
    "import matplotlib.pyplot as plt\n",
    "plt.plot(x, y)\n",
    "plt.savefig('pca_figure.jpg')\n",
    "plt.show()"
   ]
  },
  {
   "cell_type": "code",
   "execution_count": 150,
   "metadata": {},
   "outputs": [
    {
     "data": {
      "text/plain": [
       "0.998851145492537"
      ]
     },
     "execution_count": 150,
     "metadata": {},
     "output_type": "execute_result"
    }
   ],
   "source": [
    "y[299]"
   ]
  },
  {
   "cell_type": "markdown",
   "metadata": {},
   "source": [
    "\n",
    "X = []\n",
    "Y = []\n",
    "Z = []\n",
    "for i in range(1511):\n",
    "    for j in range(120):\n",
    "        X.append(i)\n",
    "        Y.append(j)\n",
    "        Z.append(newf[i, j])\n",
    "        \n",
    "from mpl_toolkits.mplot3d import Axes3D\n",
    "\n",
    "fig = plt.figure()\n",
    "ax = Axes3D(fig)\n",
    "\n",
    "ax.scatter(X, Y, Z)"
   ]
  },
  {
   "cell_type": "code",
   "execution_count": 173,
   "metadata": {},
   "outputs": [
    {
     "data": {
      "text/plain": [
       "array([[-22.61672739, -15.76507277,  -7.9510335 , ...,  -6.0433447 ,\n",
       "          8.94985265,   7.5245439 ],\n",
       "       [-14.8383872 , -19.27796292,   4.65518322, ...,  -0.94689261,\n",
       "         -6.09424111,   5.58084027],\n",
       "       [ -7.37143016,   1.04390874, -15.48473393, ..., -22.03193372,\n",
       "         41.70219416, -37.65098854],\n",
       "       ...,\n",
       "       [-14.00986388, -13.75865726,  -6.40675306, ...,   7.76580975,\n",
       "         -0.34200866,  -4.34356053],\n",
       "       [-23.49930234,  -8.11748035, -18.83850701, ...,  -6.65143589,\n",
       "         -0.11507443,   1.07513307],\n",
       "       [-21.4054662 , -16.35867225,  -3.67280082, ...,  -3.45652468,\n",
       "          1.39383321,   6.41386209]])"
      ]
     },
     "execution_count": 173,
     "metadata": {},
     "output_type": "execute_result"
    }
   ],
   "source": [
    "newf.shape\n",
    "newf"
   ]
  },
  {
   "cell_type": "code",
   "execution_count": 165,
   "metadata": {},
   "outputs": [
    {
     "data": {
      "text/plain": [
       "array([[ 2.22469316e-05,  5.29723604e-06, -1.50050694e-05,\n",
       "         4.54943369e-05, -2.72900820e-05,  2.51691355e-05,\n",
       "        -7.34208643e-06,  4.57329740e-05, -4.82043041e-05,\n",
       "        -1.59521458e-06,  4.34943470e-05, -4.16497275e-05,\n",
       "        -2.44735438e-05,  1.85764515e-05,  4.71748837e-05,\n",
       "         4.83238208e-05, -3.26565404e-05, -1.03849486e-05,\n",
       "         2.25612682e-05, -4.39582811e-05, -2.94854850e-06,\n",
       "        -1.00489598e-05,  4.46276749e-05, -2.90254942e-05,\n",
       "        -3.51190677e-05, -3.73870526e-05, -4.22438857e-05,\n",
       "         1.72059378e-05,  2.00920174e-05, -2.42779934e-05,\n",
       "        -8.46186041e-06,  3.71975317e-05, -2.86292754e-05,\n",
       "         3.65007218e-05, -1.58090428e-05, -2.40283615e-05,\n",
       "         2.22375398e-05, -8.07342360e-07,  4.89155783e-05,\n",
       "         4.86838750e-05, -4.76798343e-05, -5.50152486e-06,\n",
       "         3.63542209e-06, -4.88122466e-05, -4.36838565e-05,\n",
       "         2.64631623e-05,  2.86378261e-05,  4.54046565e-05,\n",
       "        -3.36975083e-05,  4.00842397e-05, -3.01444509e-05,\n",
       "        -2.74262132e-05, -3.49583903e-05,  2.14678047e-05,\n",
       "        -2.47373715e-05,  4.87014160e-05,  2.38132842e-05,\n",
       "         1.23101609e-05,  4.95012907e-05,  1.08495519e-07,\n",
       "         1.64290466e-06, -1.41244375e-05,  3.56092404e-05,\n",
       "         1.70132630e-05,  3.56246057e-05,  2.55180901e-05,\n",
       "        -8.18258327e-06, -3.93998980e-05,  3.70878932e-05,\n",
       "         3.89244518e-05,  4.51245216e-05, -2.08082567e-06,\n",
       "         3.69127446e-05,  4.08987448e-05,  2.35432923e-05,\n",
       "         7.56009402e-07, -8.63474147e-06,  3.08012091e-06,\n",
       "        -5.99988582e-07,  2.75972786e-05, -4.06034931e-05,\n",
       "        -3.24089577e-05,  2.40729684e-05, -4.77983763e-05,\n",
       "        -3.67699069e-05, -4.83186610e-05,  4.17969247e-05,\n",
       "        -4.02401376e-05,  4.84718738e-05, -3.25811062e-05,\n",
       "        -4.64181430e-05, -2.47252735e-05, -6.81282815e-06,\n",
       "         3.75411063e-05, -2.92154223e-05,  2.64408585e-05,\n",
       "         2.54256610e-05,  4.24380533e-06,  9.43963956e-06,\n",
       "        -1.63116163e-05,  1.41901632e-05, -4.42240658e-05,\n",
       "        -2.89244014e-05, -1.45535287e-05, -1.61938263e-05,\n",
       "        -2.02033565e-05,  1.25049001e-05, -3.41718230e-05,\n",
       "         4.78785529e-05, -3.80282496e-05, -1.28111088e-05,\n",
       "         8.94082212e-06, -5.55417941e-06,  4.59850708e-05,\n",
       "         2.61166684e-05, -1.83788785e-05, -1.81231475e-05,\n",
       "         3.29288874e-05,  3.50249426e-05,  4.36574038e-05]])"
      ]
     },
     "execution_count": 165,
     "metadata": {},
     "output_type": "execute_result"
    }
   ],
   "source": [
    "x = np.random.rand(1, 120)*0.0001-0.00005\n",
    "x"
   ]
  },
  {
   "cell_type": "code",
   "execution_count": 175,
   "metadata": {},
   "outputs": [],
   "source": [
    "newx = np.dot(newf[1, :], pca.components_)"
   ]
  },
  {
   "cell_type": "code",
   "execution_count": 178,
   "metadata": {},
   "outputs": [
    {
     "data": {
      "text/plain": [
       "6119.651487516827"
      ]
     },
     "execution_count": 178,
     "metadata": {},
     "output_type": "execute_result"
    }
   ],
   "source": [
    "diff = ((newx - f[1, :])**2).sum()\n",
    "diff"
   ]
  },
  {
   "cell_type": "code",
   "execution_count": 179,
   "metadata": {},
   "outputs": [],
   "source": [
    "np.savetxt('../data/T.txt',newx, delimiter=' ')"
   ]
  },
  {
   "cell_type": "code",
   "execution_count": 180,
   "metadata": {},
   "outputs": [
    {
     "data": {
      "text/plain": [
       "(112500,)"
      ]
     },
     "execution_count": 180,
     "metadata": {},
     "output_type": "execute_result"
    }
   ],
   "source": [
    "newx.shape"
   ]
  },
  {
   "cell_type": "code",
   "execution_count": null,
   "metadata": {},
   "outputs": [],
   "source": []
  }
 ],
 "metadata": {
  "kernelspec": {
   "display_name": "Python 3",
   "language": "python",
   "name": "python3"
  },
  "language_info": {
   "codemirror_mode": {
    "name": "ipython",
    "version": 3
   },
   "file_extension": ".py",
   "mimetype": "text/x-python",
   "name": "python",
   "nbconvert_exporter": "python",
   "pygments_lexer": "ipython3",
   "version": "3.6.4"
  }
 },
 "nbformat": 4,
 "nbformat_minor": 2
}
